{
 "cells": [
  {
   "cell_type": "code",
   "execution_count": 1,
   "id": "a6fb1b95",
   "metadata": {},
   "outputs": [],
   "source": [
    "age = [30,40,30,49,22,35,22,46,29,25,39]"
   ]
  },
  {
   "cell_type": "code",
   "execution_count": 2,
   "id": "d155e0f7",
   "metadata": {},
   "outputs": [
    {
     "data": {
      "text/plain": [
       "[30, 40, 30, 49, 22, 35, 22, 46, 29, 25, 39]"
      ]
     },
     "execution_count": 2,
     "metadata": {},
     "output_type": "execute_result"
    }
   ],
   "source": [
    "age"
   ]
  },
  {
   "cell_type": "code",
   "execution_count": 3,
   "id": "e85dba07",
   "metadata": {},
   "outputs": [
    {
     "name": "stdout",
     "output_type": "stream",
     "text": [
      "[30, 40, 30, 49, 22, 35, 22, 46, 29, 25, 39]\n"
     ]
    }
   ],
   "source": [
    "print(age)"
   ]
  },
  {
   "cell_type": "code",
   "execution_count": 2,
   "id": "3dde45d5",
   "metadata": {},
   "outputs": [
    {
     "data": {
      "text/html": [
       "<div>\n",
       "<style scoped>\n",
       "    .dataframe tbody tr th:only-of-type {\n",
       "        vertical-align: middle;\n",
       "    }\n",
       "\n",
       "    .dataframe tbody tr th {\n",
       "        vertical-align: top;\n",
       "    }\n",
       "\n",
       "    .dataframe thead th {\n",
       "        text-align: right;\n",
       "    }\n",
       "</style>\n",
       "<table border=\"1\" class=\"dataframe\">\n",
       "  <thead>\n",
       "    <tr style=\"text-align: right;\">\n",
       "      <th></th>\n",
       "      <th>Unnamed: 0</th>\n",
       "      <th>Age</th>\n",
       "      <th>Gender</th>\n",
       "      <th>Country</th>\n",
       "    </tr>\n",
       "  </thead>\n",
       "  <tbody>\n",
       "    <tr>\n",
       "      <th>0</th>\n",
       "      <td>0</td>\n",
       "      <td>39</td>\n",
       "      <td>M</td>\n",
       "      <td>South Africa</td>\n",
       "    </tr>\n",
       "    <tr>\n",
       "      <th>1</th>\n",
       "      <td>1</td>\n",
       "      <td>25</td>\n",
       "      <td>M</td>\n",
       "      <td>Botswana</td>\n",
       "    </tr>\n",
       "    <tr>\n",
       "      <th>2</th>\n",
       "      <td>2</td>\n",
       "      <td>29</td>\n",
       "      <td>F</td>\n",
       "      <td>South Africa</td>\n",
       "    </tr>\n",
       "    <tr>\n",
       "      <th>3</th>\n",
       "      <td>3</td>\n",
       "      <td>46</td>\n",
       "      <td>M</td>\n",
       "      <td>South Africa</td>\n",
       "    </tr>\n",
       "    <tr>\n",
       "      <th>4</th>\n",
       "      <td>4</td>\n",
       "      <td>22</td>\n",
       "      <td>F</td>\n",
       "      <td>Kenya</td>\n",
       "    </tr>\n",
       "    <tr>\n",
       "      <th>5</th>\n",
       "      <td>5</td>\n",
       "      <td>35</td>\n",
       "      <td>F</td>\n",
       "      <td>Mozambique</td>\n",
       "    </tr>\n",
       "    <tr>\n",
       "      <th>6</th>\n",
       "      <td>6</td>\n",
       "      <td>22</td>\n",
       "      <td>F</td>\n",
       "      <td>Lesotho</td>\n",
       "    </tr>\n",
       "    <tr>\n",
       "      <th>7</th>\n",
       "      <td>7</td>\n",
       "      <td>49</td>\n",
       "      <td>M</td>\n",
       "      <td>Kenya</td>\n",
       "    </tr>\n",
       "    <tr>\n",
       "      <th>8</th>\n",
       "      <td>8</td>\n",
       "      <td>30</td>\n",
       "      <td>M</td>\n",
       "      <td>Kenya</td>\n",
       "    </tr>\n",
       "    <tr>\n",
       "      <th>9</th>\n",
       "      <td>9</td>\n",
       "      <td>40</td>\n",
       "      <td>F</td>\n",
       "      <td>Egypt</td>\n",
       "    </tr>\n",
       "    <tr>\n",
       "      <th>10</th>\n",
       "      <td>10</td>\n",
       "      <td>30</td>\n",
       "      <td>M</td>\n",
       "      <td>Sudan</td>\n",
       "    </tr>\n",
       "  </tbody>\n",
       "</table>\n",
       "</div>"
      ],
      "text/plain": [
       "    Unnamed: 0  Age Gender       Country\n",
       "0            0   39      M  South Africa\n",
       "1            1   25      M      Botswana\n",
       "2            2   29      F  South Africa\n",
       "3            3   46      M  South Africa\n",
       "4            4   22      F         Kenya\n",
       "5            5   35      F    Mozambique\n",
       "6            6   22      F       Lesotho\n",
       "7            7   49      M         Kenya\n",
       "8            8   30      M         Kenya\n",
       "9            9   40      F         Egypt\n",
       "10          10   30      M         Sudan"
      ]
     },
     "execution_count": 2,
     "metadata": {},
     "output_type": "execute_result"
    }
   ],
   "source": [
    "import pandas as pd\n",
    "\n",
    "df = pd.read_csv(\"country_data_index.csv\")\n",
    "\n",
    "df"
   ]
  },
  {
   "cell_type": "code",
   "execution_count": null,
   "id": "b95f9d23",
   "metadata": {},
   "outputs": [],
   "source": []
  },
  {
   "cell_type": "markdown",
   "id": "1296e31a",
   "metadata": {},
   "source": [
    "## Numerical calculations - stdev & R^2"
   ]
  },
  {
   "cell_type": "markdown",
   "id": "39e72b47",
   "metadata": {},
   "source": [
    "### Stdev\n",
    "\n",
    "#### Step 1. Given the age list we first need to find the mean of the list:"
   ]
  },
  {
   "cell_type": "code",
   "execution_count": 3,
   "id": "f4dd1589",
   "metadata": {},
   "outputs": [
    {
     "name": "stdout",
     "output_type": "stream",
     "text": [
      "33.36363636363637\n"
     ]
    }
   ],
   "source": [
    "age=[39, 25, 29, 46, 22, 35, 22, 49, 30, 40, 30]\n",
    "\n",
    "mean = sum(age)/len(age)\n",
    "\n",
    "print(mean)"
   ]
  },
  {
   "cell_type": "markdown",
   "id": "0fdb99a5",
   "metadata": {},
   "source": [
    "#### Step 2. Now we need to subtract the mean from value in the list and square the result:"
   ]
  },
  {
   "cell_type": "code",
   "execution_count": 6,
   "id": "da63fb91",
   "metadata": {},
   "outputs": [
    {
     "name": "stdout",
     "output_type": "stream",
     "text": [
      "31.76859504132228\n",
      "69.95041322314054\n",
      "19.041322314049616\n",
      "159.67768595041315\n",
      "129.13223140495876\n",
      "2.6776859504132124\n",
      "129.13223140495876\n",
      "244.49586776859493\n",
      "11.314049586776882\n",
      "44.041322314049545\n",
      "11.314049586776882\n"
     ]
    }
   ],
   "source": [
    "# Create empty list\n",
    "sq_diff_list = []\n",
    "\n",
    "# Setup for loop\n",
    "for i in range(len(age)):\n",
    "\n",
    "    # Take average from each value in age list and square outcome. Note we square use double asterisks\n",
    "    # sq_diff we are just using as a temporary variable to store the result\n",
    "    sq_diff = (age[i] - mean)**2\n",
    "    \n",
    "    # add the results to the `sq_diff_list` list\n",
    "    sq_diff_list.append(sq_diff)\n",
    "    \n",
    "    # print the result\n",
    "    print(sq_diff)"
   ]
  },
  {
   "cell_type": "code",
   "execution_count": 9,
   "id": "97a2e466",
   "metadata": {},
   "outputs": [
    {
     "name": "stdout",
     "output_type": "stream",
     "text": [
      "8.803643122673986\n"
     ]
    }
   ],
   "source": [
    "# Work out the mean of the sqdifflist and square the result:\n",
    "mean_sq_diff = sum(sq_diff_list)/len(sq_diff_list)\n",
    "print(mean_sq_diff**0.5)"
   ]
  },
  {
   "cell_type": "code",
   "execution_count": 10,
   "id": "cbed59e6",
   "metadata": {},
   "outputs": [
    {
     "name": "stdout",
     "output_type": "stream",
     "text": [
      "8.803643122673984\n"
     ]
    }
   ],
   "source": [
    "# built-in Python function to do it as shown below:\n",
    "import numpy\n",
    "\n",
    "age=[39, 25, 29, 46, 22, 35, 22, 49, 30, 40, 30]\n",
    "\n",
    "print(numpy.std(age))"
   ]
  },
  {
   "cell_type": "markdown",
   "id": "beb66ce3",
   "metadata": {},
   "source": [
    "### R^2"
   ]
  },
  {
   "cell_type": "code",
   "execution_count": 14,
   "id": "5df449c8",
   "metadata": {},
   "outputs": [
    {
     "name": "stdout",
     "output_type": "stream",
     "text": [
      "sum_x = 553\n",
      "sum_x_2 = 19345\n",
      "sum_y = 1036\n",
      "sum_y_2 = 72414\n",
      "sum_xy = 36814\n",
      "n = 20\n",
      "top = 163372\n",
      "bot = 174378.40331875964\n",
      "R_2 = 0.8777480188408425\n"
     ]
    }
   ],
   "source": [
    "import numpy as np\n",
    "\n",
    "hours = [29, 9, 10, 38, 16, 26, 50, 10, 30, 33, 43, 2, 39, 15, 44, 29, 41, 15, 24, 50]\n",
    "results = [65, 7, 8, 76, 23, 56, 100, 3, 74, 48, 73, 0, 62, 37, 74, 40, 90, 42, 58, 100]\n",
    "\n",
    "x = np.asarray(hours)\n",
    "y = np.asarray(results)\n",
    "\n",
    "sum_x = np.sum(x)\n",
    "sum_x_2 = np.sum(np.square(x))\n",
    "\n",
    "sum_y = np.sum(y)\n",
    "sum_y_2 = np.sum(np.square(y))\n",
    "\n",
    "sum_xy = np.sum(x*y)\n",
    "\n",
    "print(f\"sum_x = {sum_x}\")\n",
    "print(f\"sum_x_2 = {sum_x_2}\")\n",
    "print(f\"sum_y = {sum_y}\")\n",
    "print(f\"sum_y_2 = {sum_y_2}\")\n",
    "print(f\"sum_xy = {sum_xy}\")\n",
    "\n",
    "n = len(x)\n",
    "print(f\"n = {n}\")\n",
    "\n",
    "top = n*sum_xy - sum_x*sum_y\n",
    "print(f\"top = {top}\")\n",
    "\n",
    "bot_a = np.sqrt(n*sum_x_2 - np.square(sum_x))\n",
    "bot_b = np.sqrt(n*sum_y_2 - np.square(sum_y))\n",
    "bot = bot_a*bot_b\n",
    "print(f\"bot = {bot}\")\n",
    "\n",
    "R_2 = np.square(top/bot)\n",
    "print(f\"R_2 = {R_2}\")"
   ]
  },
  {
   "cell_type": "code",
   "execution_count": 16,
   "id": "4461d236",
   "metadata": {},
   "outputs": [
    {
     "name": "stdout",
     "output_type": "stream",
     "text": [
      "R-squared: 0.8777480188408424\n"
     ]
    },
    {
     "data": {
      "image/png": "[encoded data removed]",
      "text/plain": [
       "<Figure size 432x288 with 1 Axes>"
      ]
     },
     "metadata": {
      "needs_background": "light"
     },
     "output_type": "display_data"
    }
   ],
   "source": [
    "import numpy as np\n",
    "from sklearn.metrics import r2_score\n",
    "import matplotlib.pyplot as plt\n",
    "\n",
    "# Data\n",
    "hours = [29, 9, 10, 38, 16, 26, 50, 10, 30, 33, 43, 2, 39, 15, 44, 29, 41, 15, 24, 50]\n",
    "results = [65, 7, 8, 76, 23, 56, 100, 3, 74, 48, 73, 0, 62, 37, 74, 40, 90, 42, 58, 100]\n",
    "\n",
    "# Fit a linear regression model\n",
    "model = np.polyfit(hours, results, 1)\n",
    "predict = np.poly1d(model)\n",
    "\n",
    "# Calculate R-squared\n",
    "r2 = r2_score(results, predict(hours))\n",
    "print(\"R-squared:\", r2)\n",
    "\n",
    "# Scatter plot\n",
    "plt.scatter(hours, results, label='Actual data')\n",
    "\n",
    "# Regression line plot\n",
    "plt.plot(hours, predict(hours), color='red', label='Regression line')\n",
    "\n",
    "# Labels and title\n",
    "plt.xlabel('Hours')\n",
    "plt.ylabel('Results')\n",
    "plt.title('Scatter Plot with Regression Line')\n",
    "\n",
    "# Show legend\n",
    "plt.legend()\n",
    "\n",
    "# Display the plot\n",
    "plt.show()"
   ]
  },
  {
   "cell_type": "markdown",
   "id": "c3de1762",
   "metadata": {},
   "source": [
    "## Automation\n",
    "\n",
    "### Python"
   ]
  },
  {
   "cell_type": "code",
   "execution_count": 19,
   "id": "133f3f93",
   "metadata": {},
   "outputs": [
    {
     "name": "stdout",
     "output_type": "stream",
     "text": [
      "Processing...Filename = file_1.csv\n",
      "Processing...Filename = file_10.csv\n",
      "Processing...Filename = file_2.csv\n",
      "Processing...Filename = file_3.csv\n",
      "Processing...Filename = file_4.csv\n",
      "Processing...Filename = file_5.csv\n",
      "Processing...Filename = file_6.csv\n",
      "Processing...Filename = file_7.csv\n",
      "Processing...Filename = file_8.csv\n",
      "Processing...Filename = file_9.csv\n",
      "Processing...Filename = read_csv.sh\n",
      "Sum of 'y' column values for each file: [4945, 5029, 5400, 4753, 5248, 4860, 5084, 4979, 5581, 5217]\n"
     ]
    }
   ],
   "source": [
    "import pandas as pd\n",
    "import os\n",
    "\n",
    "# List to store the sum of 'y' column values for each file\n",
    "sum_list = []\n",
    "\n",
    "# Directory containing CSV files\n",
    "directory = './csv_files/'\n",
    "\n",
    "# Loop through each CSV file in the directory\n",
    "for filename in os.listdir(directory):\n",
    "    print(f\"Processing...Filename = {filename}\")\n",
    "    if filename.endswith('.csv'):\n",
    "        file_path = os.path.join(directory, filename)\n",
    "        \n",
    "        # Read the CSV file using pandas\n",
    "        df = pd.read_csv(file_path)\n",
    "        \n",
    "        # Calculate the sum of 'y' column and append to the list\n",
    "        total_sum = df['y'].sum()\n",
    "        sum_list.append(total_sum)\n",
    "        \n",
    "# Print the list of sums\n",
    "print(\"Sum of 'y' column values for each file:\", sum_list)"
   ]
  },
  {
   "cell_type": "code",
   "execution_count": null,
   "id": "283b9601",
   "metadata": {},
   "outputs": [],
   "source": []
  }
 ],
 "metadata": {
  "kernelspec": {
   "display_name": "Python 3 (ipykernel)",
   "language": "python",
   "name": "python3"
  },
  "language_info": {
   "codemirror_mode": {
    "name": "ipython",
    "version": 3
   },
   "file_extension": ".py",
   "mimetype": "text/x-python",
   "name": "python",
   "nbconvert_exporter": "python",
   "pygments_lexer": "ipython3",
   "version": "3.9.12"
  }
 },
 "nbformat": 4,
 "nbformat_minor": 5
}
